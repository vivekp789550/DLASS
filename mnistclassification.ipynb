{
 "cells": [
  {
   "cell_type": "code",
   "execution_count": 1,
   "id": "bbce71bd-c38d-42f0-9218-7d5ebc670210",
   "metadata": {},
   "outputs": [],
   "source": [
    "import tensorflow as tf"
   ]
  },
  {
   "cell_type": "code",
   "execution_count": 2,
   "id": "458ddf2f-06b7-4c50-ac4b-c0ec4e8116a0",
   "metadata": {},
   "outputs": [],
   "source": [
    "from tensorflow.keras import models,layers"
   ]
  },
  {
   "cell_type": "code",
   "execution_count": 3,
   "id": "2d51f3fa-051d-4dbe-b823-4fd2761f2074",
   "metadata": {},
   "outputs": [],
   "source": [
    "\n",
    "from tensorflow.keras.datasets import mnist\n",
    "import numpy as np\n",
    "import random"
   ]
  },
  {
   "cell_type": "code",
   "execution_count": 4,
   "id": "acfff102-8286-49f4-89a0-47bfcc965423",
   "metadata": {},
   "outputs": [],
   "source": [
    "import matplotlib.pyplot as plt"
   ]
  },
  {
   "cell_type": "code",
   "execution_count": 5,
   "id": "ca57d7f5-ae55-49e2-bea4-550a9434c1c5",
   "metadata": {},
   "outputs": [],
   "source": [
    "(x_train , y_train) , (x_test,y_test) = mnist.load_data()"
   ]
  },
  {
   "cell_type": "code",
   "execution_count": 6,
   "id": "76958f2e-8faa-4713-8a9a-f492532df3c2",
   "metadata": {},
   "outputs": [],
   "source": [
    "x_train = x_train / 255.0\n",
    "x_test = x_test / 255.0"
   ]
  },
  {
   "cell_type": "code",
   "execution_count": 7,
   "id": "39c8b94c-ac79-4c67-a587-0ab4ecd160de",
   "metadata": {},
   "outputs": [
    {
     "data": {
      "image/png": "[encoded data removed]",
      "text/plain": [
       "<Figure size 640x480 with 1 Axes>"
      ]
     },
     "metadata": {},
     "output_type": "display_data"
    }
   ],
   "source": [
    "idx = random.randint(0 , len(x_train))\n",
    "plt.imshow(x_train[idx , : ])\n",
    "plt.show()"
   ]
  },
  {
   "cell_type": "code",
   "execution_count": 8,
   "id": "0987f883-5593-48c4-8f15-86a236d7f18b",
   "metadata": {},
   "outputs": [],
   "source": [
    "from tensorflow.keras.layers import Conv2D,MaxPooling2D,Flatten,Dense\n",
    "from tensorflow.keras.models import Sequential"
   ]
  },
  {
   "cell_type": "code",
   "execution_count": 9,
   "id": "8d0829e8-b54f-4819-907e-e318603a4d3e",
   "metadata": {},
   "outputs": [],
   "source": [
    "model = Sequential([\n",
    "    Conv2D(32 , (3,3) , activation = 'relu' , input_shape=(28 , 28 ,1)),\n",
    "    MaxPooling2D((2,2)),\n",
    "    Conv2D(32 , (3,3) , activation = 'relu'),\n",
    "    MaxPooling2D((2,2)),\n",
    "    Flatten(),\n",
    "    Dense(64 , activation = 'relu'),\n",
    "    Dense(10, activation = 'softmax'),\n",
    "])"
   ]
  },
  {
   "cell_type": "code",
   "execution_count": null,
   "id": "f26deab1-3be3-471d-83d7-e3b4f7b93611",
   "metadata": {},
   "outputs": [],
   "source": []
  },
  {
   "cell_type": "code",
   "execution_count": 10,
   "id": "4f2767e6-f29e-42b1-bb70-af01cd137e4c",
   "metadata": {},
   "outputs": [],
   "source": [
    "# Assuming x_train is currently of shape (num_samples, 28, 28)\n",
    "x_train = x_train.reshape((x_train.shape[0], 28, 28, 1))  # Add channel dimension\n",
    "x_test = x_test.reshape((x_test.shape[0], 28, 28, 1))"
   ]
  },
  {
   "cell_type": "code",
   "execution_count": 11,
   "id": "37ca5463-f001-4618-a6d3-e7a96adde0d3",
   "metadata": {},
   "outputs": [],
   "source": [
    "model.compile(optimizer = 'adam' , loss='sparse_categorical_crossentropy',metrics=['accuracy'])"
   ]
  },
  {
   "cell_type": "code",
   "execution_count": 12,
   "id": "19f6c8e2-9cd6-41c8-b25d-6c21a1a1cb4a",
   "metadata": {},
   "outputs": [
    {
     "name": "stdout",
     "output_type": "stream",
     "text": [
      "Epoch 1/5\n",
      "1875/1875 [==============================] - 34s 18ms/step - loss: 0.1573 - accuracy: 0.9523 - val_loss: 0.0609 - val_accuracy: 0.9796\n",
      "Epoch 2/5\n",
      "1875/1875 [==============================] - 34s 18ms/step - loss: 0.0552 - accuracy: 0.9826 - val_loss: 0.0485 - val_accuracy: 0.9840\n",
      "Epoch 3/5\n",
      "1875/1875 [==============================] - 33s 18ms/step - loss: 0.0384 - accuracy: 0.9878 - val_loss: 0.0355 - val_accuracy: 0.9888\n",
      "Epoch 4/5\n",
      "1875/1875 [==============================] - 34s 18ms/step - loss: 0.0295 - accuracy: 0.9905 - val_loss: 0.0349 - val_accuracy: 0.9886\n",
      "Epoch 5/5\n",
      "1875/1875 [==============================] - 32s 17ms/step - loss: 0.0238 - accuracy: 0.9923 - val_loss: 0.0276 - val_accuracy: 0.9905\n"
     ]
    },
    {
     "data": {
      "text/plain": [
       "<tensorflow.python.keras.callbacks.History at 0x225ee8be280>"
      ]
     },
     "execution_count": 12,
     "metadata": {},
     "output_type": "execute_result"
    }
   ],
   "source": [
    "model.fit(x_train,y_train,epochs = 5 ,validation_data=(x_test , y_test))"
   ]
  },
  {
   "cell_type": "code",
   "execution_count": 13,
   "id": "0b9d8a47-2063-4d93-9ec5-272ba838da7a",
   "metadata": {},
   "outputs": [
    {
     "name": "stdout",
     "output_type": "stream",
     "text": [
      "313/313 [==============================] - 2s 6ms/step - loss: 0.0276 - accuracy: 0.9905\n"
     ]
    },
    {
     "data": {
      "text/plain": [
       "[0.02757829613983631, 0.9904999732971191]"
      ]
     },
     "execution_count": 13,
     "metadata": {},
     "output_type": "execute_result"
    }
   ],
   "source": [
    "model.evaluate(x_test , y_test)"
   ]
  },
  {
   "cell_type": "code",
   "execution_count": 14,
   "id": "f5f31de9-19b7-4b5b-876c-db0ab4fc1410",
   "metadata": {},
   "outputs": [
    {
     "data": {
      "text/plain": [
       "(10000, 28, 28, 1)"
      ]
     },
     "execution_count": 14,
     "metadata": {},
     "output_type": "execute_result"
    }
   ],
   "source": [
    "x_test.shape"
   ]
  },
  {
   "cell_type": "code",
   "execution_count": 20,
   "id": "21127b80-465d-4a0a-9a85-af5fecc233d8",
   "metadata": {},
   "outputs": [
    {
     "data": {
      "image/png": "[encoded data removed]",
      "text/plain": [
       "<Figure size 640x480 with 1 Axes>"
      ]
     },
     "metadata": {},
     "output_type": "display_data"
    },
    {
     "name": "stdout",
     "output_type": "stream",
     "text": [
      "7\n"
     ]
    }
   ],
   "source": [
    "idx2 = random.randint(0, len(y_test))\n",
    "plt.imshow(x_test[idx2 , :])\n",
    "plt.show()\n",
    "y_pred = model.predict(x_test[idx2].reshape(1, 28, 28, 1))\n",
    "print(np.argmax(y_pred))"
   ]
  },
  {
   "cell_type": "code",
   "execution_count": null,
   "id": "cffcac45-70ca-466f-bb35-bf38714da8f2",
   "metadata": {},
   "outputs": [],
   "source": []
  }
 ],
 "metadata": {
  "kernelspec": {
   "display_name": "Python 3 (ipykernel)",
   "language": "python",
   "name": "python3"
  },
  "language_info": {
   "codemirror_mode": {
    "name": "ipython",
    "version": 3
   },
   "file_extension": ".py",
   "mimetype": "text/x-python",
   "name": "python",
   "nbconvert_exporter": "python",
   "pygments_lexer": "ipython3",
   "version": "3.8.19"
  }
 },
 "nbformat": 4,
 "nbformat_minor": 5
}
